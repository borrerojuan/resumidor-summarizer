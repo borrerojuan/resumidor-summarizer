{
 "cells": [
  {
   "cell_type": "markdown",
   "metadata": {},
   "source": [
    "# Resumidor de Textos"
   ]
  },
  {
   "cell_type": "code",
   "execution_count": 1,
   "metadata": {},
   "outputs": [],
   "source": [
    "# Importa los metodos a trabajar desde NLTK:\n",
    "\n",
    "# stopwords = palabras reservadas.\n",
    "from nltk.corpus import stopwords\n",
    "\n",
    "# word_tokenize = valorizador de palabras.\n",
    "# sent_tokenize = valorizador de oraciones.\n",
    "from nltk.tokenize import word_tokenize, sent_tokenize"
   ]
  },
  {
   "cell_type": "code",
   "execution_count": 2,
   "metadata": {},
   "outputs": [
    {
     "data": {
      "text/plain": [
       "\"\\n# Descarga de metodos debido a que stopwords y tokenize\\n#   no se podían usar sin ellos.\\nimport nltk\\nnltk.download('stopwords')\\nnltk.download('punkt')\\n\\n\""
      ]
     },
     "execution_count": 2,
     "metadata": {},
     "output_type": "execute_result"
    }
   ],
   "source": [
    "# --> OPCIONAL <--\n",
    "\n",
    "\"\"\"\n",
    "# Descarga de metodos debido a que stopwords y tokenize\n",
    "#   no se podían usar sin ellos.\n",
    "import nltk\n",
    "nltk.download('stopwords')\n",
    "nltk.download('punkt')\n",
    "\n",
    "\"\"\""
   ]
  },
  {
   "cell_type": "code",
   "execution_count": 3,
   "metadata": {},
   "outputs": [],
   "source": [
    "# Creamos el texto para sacar el resúmen\n",
    "\n",
    "# ** Coloca aquí tu texto **\n",
    "texto = \"\"\"El secreto de Edgar Allan Poe es la previa organización metódica de sus elementos a fin de producir efectos. Haciendo una lectura tamizada de la obra, se develan aquellos elementos patrones que, casualmente, emplea para su misión de expresar una porción del terreno de la melancolía y el horror diabólico. Poe escribe sus relatos teniendo en mente un simple efecto propenso a estallar en terror o pasión durante el momento final de la historia. Sostiene que en la totalidad de la composición no debe haber palabras que tiendan, directa o indirectamente, a deducir el efecto que el autor se ha propuesto. Lo asombroso es que un amante de la casualidad haya preparado sistemáticamente los elementos que se deben integrar en el relato, como si hubiese sido dotado del don para controlar el destino: azares de la expresión. Así es como sorprende, manipula el campo de lo inesperado, sobresalta al lector y en la apuesta final saca el as de la manga y gana la jugada astutamente. Los detalles funcionan como sostenes del relato hasta que la última oración narra el efecto preciso: el más planeado por el autor y el menos pensado para el lector. En Edgar Poe no es la inventiva lo que deslumbra sino la capacidad de incertidumbre de las situaciones, la aproximación a lo temido por desconocido, a la muerte. Maestro de la desesperación que parece hallar en la muerte el corte al sufrimiento de sus personajes, de su propio dolor. Tomando las palabras del poeta y dramaturgo David H. Lawrence: « Las mejores producciones de Poe no son relatos. Son algo más. Son descripciones del alma humana, retorciéndose en las convulsiones de la ruptura»\"\"\""
   ]
  },
  {
   "cell_type": "code",
   "execution_count": 4,
   "metadata": {},
   "outputs": [],
   "source": [
    "# Creamos dos colecciones: Una para las palabras reservadas y otra para cada palabra del texto\n",
    "\n",
    "palabras = word_tokenize(texto)\n",
    "palReservada = set(stopwords.words(\"spanish\"))"
   ]
  },
  {
   "cell_type": "code",
   "execution_count": 5,
   "metadata": {},
   "outputs": [],
   "source": [
    "# Creamos un diccionario para la tabla de frecuencias. Para esto deberíamos usar las palabras que no son parte\n",
    "# de la coleccion stopWords\n",
    "\n",
    "tablaFrec = dict()\n",
    "\n",
    "\n",
    "for palabra in palabras:\n",
    "    \n",
    "    palabra = palabra.lower()\n",
    "    \n",
    "    if palabra in palReservada:\n",
    "        continue\n",
    "        \n",
    "    if palabra in tablaFrec:\n",
    "        \n",
    "        tablaFrec[palabra] += 1\n",
    "    else:\n",
    "        \n",
    "        tablaFrec[palabra] = 1"
   ]
  },
  {
   "cell_type": "code",
   "execution_count": 6,
   "metadata": {},
   "outputs": [],
   "source": [
    "# Creamos la matriz de orciones y un diccionario para mantener la puntuación de cada frase.\n",
    "# De esta manera mas tarde podremos consultar ese diccionario para generar el resumen\n",
    "\n",
    "oraciones = sent_tokenize(texto)\n",
    "valorOraciones = dict()"
   ]
  },
  {
   "cell_type": "code",
   "execution_count": 7,
   "metadata": {},
   "outputs": [],
   "source": [
    "# Ahora es el momento de repasar cada frase y darle una puntuación dependiendo de las palabras que tenga. \n",
    "# Hay muchos algoritmos para hacer esto - básicamente, cualquier manera consistente de anotar una oración \n",
    "# por sus palabras. Me decidí por un algoritmo básico: añadir la frecuencia de cada palabra sin parar en una frase.\n",
    "\n",
    "for oracion in oraciones:\n",
    "    \n",
    "    for palabra, frec in tablaFrec.items():\n",
    "        \n",
    "        if palabra in oracion.lower():\n",
    "            \n",
    "            if oracion in valorOraciones:\n",
    "                valorOraciones[oracion] += frec\n",
    "            else:\n",
    "                valorOraciones[oracion] = frec"
   ]
  },
  {
   "cell_type": "code",
   "execution_count": 11,
   "metadata": {},
   "outputs": [],
   "source": [
    "# Se crea una variable donde se almacena la suma de los valores.\n",
    "\n",
    "sumaValores = 0"
   ]
  },
  {
   "cell_type": "code",
   "execution_count": 13,
   "metadata": {},
   "outputs": [],
   "source": [
    "# Se crea un ciclo for para evaluar la oración dentro del Diccionario de las oraciones valorizadas.\n",
    "\n",
    "for oracion in valorOraciones:\n",
    "    \n",
    "    # Se suma 1 al valor de la Oración en su respectiva posición\n",
    "    sumaValores += valorOraciones[oracion]\n",
    "    \n",
    "# Valor promedio de una oración desde un texto original\n",
    "# Divide la suma de valores en la total de oraciones valorizadas.\n",
    "promedio = int(sumaValores/(len(valorOraciones)) )"
   ]
  },
  {
   "cell_type": "code",
   "execution_count": null,
   "metadata": {},
   "outputs": [],
   "source": [
    "# Definimos una variable en donde pondremos el resumen obtenido\n",
    "\n",
    "resumen = ''"
   ]
  },
  {
   "cell_type": "code",
   "execution_count": 15,
   "metadata": {},
   "outputs": [],
   "source": [
    "# Se crea un for para recorrer las oraciones almacenadas\n",
    "\n",
    "for oracion in oraciones:\n",
    "    \n",
    "    #Donde si la oración está en las oraciones Valorizadas y la posición de la oración es mayor que 1.2 veces el promedio:\n",
    "    if (oracion in valorOraciones) and (valorOraciones[oracion] > (1.2 * promedio)):\n",
    "        \n",
    "        # El resumen va a agregar un espacio más la oración que aprobó la condición.\n",
    "        resumen += \" \" + oracion"
   ]
  },
  {
   "cell_type": "code",
   "execution_count": 16,
   "metadata": {
    "scrolled": true
   },
   "outputs": [
    {
     "name": "stdout",
     "output_type": "stream",
     "text": [
      "Resumen:\n",
      "\n",
      "  Haciendo una lectura tamizada de la obra, se develan aquellos elementos patrones que, casualmente, emplea para su misión de expresar una porción del terreno de la melancolía y el horror diabólico. Sostiene que en la totalidad de la composición no debe haber palabras que tiendan, directa o indirectamente, a deducir el efecto que el autor se ha propuesto. Lo asombroso es que un amante de la casualidad haya preparado sistemáticamente los elementos que se deben integrar en el relato, como si hubiese sido dotado del don para controlar el destino: azares de la expresión.\n"
     ]
    }
   ],
   "source": [
    "# Imprimimos el resumen\n",
    "\n",
    "print(\"Resumen:\\n\\n\", resumen)"
   ]
  },
  {
   "cell_type": "code",
   "execution_count": null,
   "metadata": {},
   "outputs": [],
   "source": []
  }
 ],
 "metadata": {
  "kernelspec": {
   "display_name": "Python 3",
   "language": "python",
   "name": "python3"
  },
  "language_info": {
   "codemirror_mode": {
    "name": "ipython",
    "version": 3
   },
   "file_extension": ".py",
   "mimetype": "text/x-python",
   "name": "python",
   "nbconvert_exporter": "python",
   "pygments_lexer": "ipython3",
   "version": "3.5.5"
  }
 },
 "nbformat": 4,
 "nbformat_minor": 2
}
